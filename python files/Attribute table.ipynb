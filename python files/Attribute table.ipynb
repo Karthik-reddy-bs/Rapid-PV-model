{
 "cells": [
  {
   "cell_type": "markdown",
   "metadata": {},
   "source": [
    "# Attribute table"
   ]
  },
  {
   "cell_type": "markdown",
   "metadata": {},
   "source": [
    "Primary input for the Panel distribution algorithm is an attribute table\n",
    "This script develops the attribute table which consists of rooftop segment ID, geometry of rooftop segment, slope(β_s) and aspect(α) of the rooftop segment"
   ]
  },
  {
   "cell_type": "code",
   "execution_count": 1,
   "metadata": {},
   "outputs": [],
   "source": [
    "import numpy as np\n",
    "import pandas as pd\n",
    "from PIL import Image\n",
    "import statistics\n",
    "import geopandas as gpd\n",
    "import math\n",
    "from osgeo import gdal\n",
    "import time\n",
    "from shapely.geometry import LineString, mapping\n",
    "from itertools import combinations\n",
    "import re"
   ]
  },
  {
   "cell_type": "code",
   "execution_count": 2,
   "metadata": {},
   "outputs": [],
   "source": [
    "    \"\"\"\n",
    "    \n",
    "    Input parameters:\n",
    "    -----------------\n",
    "    \n",
    "    The primary inputs for this script are raster and vector datasets.\n",
    "    \n",
    "    building_id_raster: Vector shapefile which contains LOD2 roof segments is converted into raster dataset with pixels \n",
    "                        representing the segment_id of the building.\n",
    "                        This file is used to extract pixels that belong to a particular segments.\n",
    "    slope_DSM         : Slope of a segment is calculated from DSM by using Geospatial Data Abstraction Library \n",
    "                        (GDAL) Spatial Analyst toolbox in QGIS. (GDAL (GDAL/OGR contributors, 2021))) \n",
    "                        After generating the slope raster, slopes are reclassified. In this reclassification, \n",
    "                        slopes higher than 60° are considered walls and hence eliminated by allocating slopes \n",
    "                        ranging in between 60° and 90° to -1\n",
    "    aspect_DSM        : The aspect tool of the GDAL Spatial Analyst Toolbox in QGIS was used to obtain aspect values from DSM\n",
    "    \n",
    "    vector_data       : Vector shapefile which contains LOD2 roof segments with an attribute column 'segment_id'(@row_number)\n",
    "    \n",
    "    β_o               : Optimized slope - must be optimized according to the location of the study. \n",
    "                        In this paper, β_0= 53°(Freier et al., 2018) for the city of Berlin.\n",
    "                        \n",
    "    Note: Input files and parameters can be found under the folder \"Datasets\" in Github\n",
    "        \n",
    "    \"\"\"\n",
    "# Input raster and vector files\n",
    "\n",
    "building_id_raster = gdal.Open('Building_id_raster.tif')\n",
    "slope_DSM          = gdal.Open('Reclassified_slope.tif') \n",
    "aspect_DSM         = gdal.Open('Aspect_clipped.tif')\n",
    "shapefile          = gpd.read_file(\"vector_area.shp\")\n",
    "β_o                = 53 "
   ]
  },
  {
   "cell_type": "code",
   "execution_count": 3,
   "metadata": {},
   "outputs": [],
   "source": [
    "# Converting raster files into python dataframes.\n",
    "\n",
    "building = building_id_raster.GetRasterBand(1).ReadAsArray()\n",
    "slope    = slope_DSM.GetRasterBand(1).ReadAsArray()\n",
    "aspect   = aspect_DSM.GetRasterBand(1).ReadAsArray()\n",
    "\n",
    "# Getting unique building/segment list\n",
    "\n",
    "building_list = np.unique(building)\n",
    "building_list = building_list[building_list!=0]\n",
    "geo_transform = building_id_raster.GetGeoTransform ()"
   ]
  },
  {
   "cell_type": "code",
   "execution_count": 4,
   "metadata": {},
   "outputs": [],
   "source": [
    "for i in building_list:\n",
    "    \n",
    "    geo = shapefile.loc[shapefile['segment_id'] == i, 'geometry'].iloc[0]\n",
    "    cen = geo.centroid\n",
    "    \n",
    "    result = np.where(building == i)\n",
    "    pixels = list(zip(*result))\n",
    "    slope_raster   = []\n",
    "    aspect_raster  = []\n",
    "    unwanted_pixel = [-1]\n",
    "    \n",
    "    pixel_x = int((cen.x - geo_transform[0]) // geo_transform[1])\n",
    "    pixel_y = int((cen.y - geo_transform[3]) // (geo_transform[5]))\n",
    "    \n",
    "    for pixel in pixels:   # appending slopes and aspect that belonging to same roof segment.\n",
    "        \n",
    "        slope_raster.append(slope[pixel])\n",
    "        aspect_raster.append(aspect[pixel])\n",
    "\n",
    "    if slope_raster.count(slope_raster[0]) == len(slope_raster):\n",
    "        \n",
    "      pass\n",
    "    \n",
    "    else:\n",
    "        \n",
    "        while unwanted_pixel in slope_raster: slope_raster.remove(unwanted_pixel)\n",
    "            \n",
    "        \"\"\"\n",
    "        Slope raster vary across a rooftop segment due to some error in input (LiDAR) data\n",
    "        Hence, to minimize the error and get a single slope value for a rooftop segment, \n",
    "        the median filter was used over all the slope pixels belonging to a particular rooftop segment.\n",
    "        \"\"\"\n",
    "        slope_value = statistics.median(slope_raster) # \n",
    "    \n",
    "        if slope_value < 10: # Slopes below 10° are assumed to be flat surfaces\n",
    "            \n",
    "            shapefile.loc[shapefile.segment_id ==i, 'act_area'] = shapefile.loc[shapefile.segment_id ==i, 'area']\n",
    "            shapefile.loc[shapefile.segment_id ==i, 'Slope']    = β_o\n",
    "            shapefile.loc[shapefile.segment_id ==i, 'Aspect']   = 180\n",
    "\n",
    "        else:\n",
    "            \n",
    "            shapefile.loc[shapefile.segment_id ==i, 'act_area'] = shapefile.loc[shapefile.segment_id ==i, 'area'] / math.cos(math.radians(slope_value))\n",
    "            shapefile.loc[shapefile.segment_id ==i, 'Slope']    = slope_value\n",
    "            shapefile.loc[shapefile.segment_id ==i, 'Aspect']   = aspect[pixel_y, pixel_x]"
   ]
  },
  {
   "cell_type": "code",
   "execution_count": 5,
   "metadata": {},
   "outputs": [],
   "source": [
    "\"\"\"\n",
    "    Like slope raster, aspect raster data also contains noise and to get a single aspect value \n",
    "    for a tilted rooftop segment, the line string method has been used.\n",
    "    \n",
    "    A line string is a shape that has a dimension of 1. It is a simple line that does not intersect itself. \n",
    "    Every polygon is made up of several line strings, which act as a boundary of that polygon. \n",
    "    \n",
    "    Since the rooftop segment is also a polygon, each rooftop segment contains line strings, and the slope of \n",
    "    the largest line string is taken as the aspect of the segment because the PV panels on the rooftops are \n",
    "    installed along the edges.\n",
    "    \n",
    "\"\"\"\n",
    "\n",
    "for i in range(shapefile.shape[0]):\n",
    "    \n",
    "    longest_lines = []      \n",
    "    g = shapefile.loc[i, 'geometry']        \n",
    "    \n",
    "    if (g.geom_type == 'Polygon') and (shapefile.loc[i, 'Slope'] != β_o):\n",
    "        \n",
    "        x,y      = g.exterior.coords.xy\n",
    "        coords   = np.dstack((x,y)).tolist()\n",
    "        vertices = []\n",
    "        \n",
    "        for x in coords:\n",
    "            \n",
    "            for z in x:\n",
    "                \n",
    "                vertices.append(z)\n",
    "        \n",
    "        if len(vertices)>2:\n",
    "            \n",
    "            lines = []\n",
    "            \n",
    "            for j in range(len(vertices)-1):\n",
    "                \n",
    "                if j == (len(vertices) - 2) :\n",
    "                    \n",
    "                    line = LineString([(float(vertices[0][0]),float(vertices[0][1])), (float(vertices[j][0]),float(vertices[j][1]))])\n",
    "                \n",
    "                else:\n",
    "                    \n",
    "                    line = LineString([(float(vertices[j][0]),float(vertices[j][1])), (float(vertices[j+1][0]),float(vertices[j+1][1]))])\n",
    "                \n",
    "                lines.append(line)\n",
    "            \n",
    "            longest_lines.append(max(lines, key=lambda x: x.length)) # Find the longest line along which the panels are oriented\n",
    "            x,y = longest_lines[0].coords.xy\n",
    "            pd.DataFrame({'LAT':x,'LON':y})\n",
    "            shapefile.loc[i, 'Seg_Aspect'] = np.degrees(math.atan2((y[1] - y[0]),(x[1] - x[0])))\n",
    "            \n",
    "    else:\n",
    "        \n",
    "        shapefile.loc[i, 'Seg_Aspect'] = shapefile.loc[i, 'Aspect']"
   ]
  },
  {
   "cell_type": "code",
   "execution_count": 6,
   "metadata": {},
   "outputs": [
    {
     "name": "stdout",
     "output_type": "stream",
     "text": [
      "Atrribute table has been generated and is stored as segments.shp\n"
     ]
    }
   ],
   "source": [
    "shapefile.dropna(inplace=True)\n",
    "outfp = r\"segments.shp\"\n",
    "shapefile.to_file(outfp) # Attribute shapefile is generated under the file named \"segments.shp\"\n",
    "\n",
    "print(\"Atrribute table has been generated and is stored as segments.shp\")"
   ]
  },
  {
   "cell_type": "code",
   "execution_count": null,
   "metadata": {},
   "outputs": [],
   "source": []
  }
 ],
 "metadata": {
  "kernelspec": {
   "display_name": "Python 3",
   "language": "python",
   "name": "python3"
  },
  "language_info": {
   "codemirror_mode": {
    "name": "ipython",
    "version": 3
   },
   "file_extension": ".py",
   "mimetype": "text/x-python",
   "name": "python",
   "nbconvert_exporter": "python",
   "pygments_lexer": "ipython3",
   "version": "3.8.5"
  }
 },
 "nbformat": 4,
 "nbformat_minor": 4
}
