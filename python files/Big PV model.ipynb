{
 "cells": [
  {
   "cell_type": "markdown",
   "metadata": {},
   "source": [
    "# Big PV model"
   ]
  },
  {
   "cell_type": "markdown",
   "metadata": {},
   "source": [
    "This is a simplified PV model which is used to rapidly and continuously forecast the potential and production of photovoltaic energy at the neighbourhood and city scales.\n",
    "\n",
    "Background:\n",
    "----------\n",
    "This model was developed using LiDAR and DSM data. Forty simulation areas have been generated in which 25 training areas are used to analyze the relationships between PV power production potential and urban forms.\n",
    "\n",
    "Later parametrized equations, namely placement efficiency and geometric efficiency are generated from the training areas, which were later evaluated using the evaluation areas. Placement efficiency was used to accurately calculate geometrically placed PV panels for an urban area without actually placing PV panels on rooftop building segments. Geometric efficiency calculates the PV power output with shading losses instead of using the SEBE model. \n",
    "\n",
    "These parametrized equations are used in Big PV model. With the placement and geometric efficiency, PV power output for an urban area can be calculated in a simple and fast manner.\n",
    "\n",
    "Significance:\n",
    "----------\n",
    "1. With fewer input parameters, can rapidly estimate the PV potential over an entire year.\n",
    "2. Parametrized equations used in this model assist in calculating geometrically placed PV panels and account for shading losses.\n",
    "\n",
    "Limitations:\n",
    "----------\n",
    "1. Assumes all rooftop building segments are equipped with PV panels neglecting safety, socio-economic and environmental factors.\n"
   ]
  },
  {
   "cell_type": "code",
   "execution_count": null,
   "metadata": {},
   "outputs": [],
   "source": [
    "    \"\"\"\n",
    "\n",
    "    Input Parameters\n",
    "    ----------\n",
    "        l_PV         : Length of PV panel in portait mode [m]\n",
    "        w_PV         : Width of PV panel in portait mode [m]\n",
    "        pv_eff       : Efficiency of PV panel [%]\n",
    "        alpha        : Temperature coefficient of PV panel [1/K]\n",
    "        d            : Module row spacing [m]\n",
    "        lamda_proj   : Projected plan area fraction of building segments\n",
    "        l_s          : Average building segment length [m] is the typical distance of the length of the roof, \n",
    "                       which tells you how far the shadows get on the roof and is calculated \n",
    "                       by taking the square root of the average segment area.\n",
    "        f_flat       : Fraction of flat building segments\n",
    "        wire_losses  : Wiring losses [%]\n",
    "        metadata     : Input meteorological data specifically formatted using \n",
    "                       UMEP -> Pre-processing -> Meteorological data -> Prepare existing data\n",
    "\n",
    "    \"\"\""
   ]
  },
  {
   "cell_type": "code",
   "execution_count": null,
   "metadata": {},
   "outputs": [],
   "source": [
    "import numpy as np; \n",
    "\n",
    "l_PV = 1\n",
    "w_PV = 1.6  \n",
    "pv_eff = 17.7 \n",
    "alpha = -0.0039  \n",
    "d = 1.5  \n",
    "lamda_proj = 0.24  \n",
    "l_s = 8.88  \n",
    "f_flat = 0.14  \n",
    "wire_losses = 2 \n",
    "metadata = np.loadtxt(\"Berlin_Weather_2019.txt\", skiprows=1, dtype=float).reshape((-1, 24))"
   ]
  },
  {
   "cell_type": "code",
   "execution_count": null,
   "metadata": {},
   "outputs": [],
   "source": [
    "  \"\"\"\n",
    "    Constants\n",
    "    -------\n",
    "        ref_temp     : Reference PV cell temperature, default value = 25 °C\n",
    "        k_t          : Reduction factor, default value = 0.05 °C/(W/m2)\n",
    "            \n",
    "            Reduction factor (kT) a constant defined as “expressing the changes in module performance due to \n",
    "            differences in the module’s actual , and nominal operating temperatures” (Ramirez Camargo et al., 2015). \n",
    "            A constant value for kT = 0.05 °C/(W/m2) was suggested by various authors (King et al., 2004), \n",
    "            (Ramirez Camargo et al., 2015) and also used in the PV-GIS web service for \n",
    "            building integrated systems.\n",
    "            \n",
    "            References:\n",
    "            -------\n",
    "            \n",
    "            Ramirez Camargo, L., Zink, R., Dorner, W., & Stoeglehner, G. (2015). \n",
    "            Spatio-temporal modelling of roof-top photovoltaic panels for improved technical potential assessment \n",
    "            and electricity peak load offsetting at the municipal scale. Computers, Environment, and Urban Systems, \n",
    "            52, 58–69. https://doi.org/10.1016/j.compenvurbsys.2015.03.002\n",
    "            \n",
    "            King, D. L., Boyson, W. E., & Kratochvill, J. A. (2004). Photovoltaic Array Performance Model. December.\n",
    "            \n",
    "            \n",
    "  \"\"\"\n",
    "\n",
    "ref_temp = 25\n",
    "k_t = 0.05"
   ]
  },
  {
   "cell_type": "code",
   "execution_count": null,
   "metadata": {},
   "outputs": [],
   "source": [
    "  \"\"\"\n",
    "    Parametrized Equations\n",
    "    -------\n",
    "        pl_eff       : Placement Efficiency\n",
    "        \n",
    "                Placement Efficiency (PE) is the ratio of geometrically installed PV panels\n",
    "                to the theoretical PV panels.\n",
    "                PE for Big PV model is 0.897 (taken from Master Thesis)\n",
    "                \n",
    "        geo_eff      : Geometric Efficiency\n",
    "        \n",
    "                Geometric Efficiency (GE) is the ratio of PV power output (including shading losses) \n",
    "                to the theoretical PV power output.\n",
    "                GE for Big PV model is calculated using the equation (0.0119 * l_s) + 0.4046 (taken from Master Thesis)\n",
    "  \"\"\"\n",
    "    \n",
    "pl_eff = 0.897\n",
    "geo_eff = (0.0119 * l_s) + 0.4046"
   ]
  },
  {
   "cell_type": "code",
   "execution_count": null,
   "metadata": {},
   "outputs": [],
   "source": [
    "  \"\"\"\n",
    "    Theoretical PV panels\n",
    "    -------\n",
    "        PV panels are calculated using rooftop building segment area without considering the geometry, tilt, \n",
    "        and aspect of the building segment.\n",
    "        \n",
    "  \"\"\"\n",
    "theoretical_PVP = (f_flat * lamda_proj / ((w_PV + d) * l_PV)) + ((1 - f_flat) * lamda_proj / (l_PV * w_PV))"
   ]
  },
  {
   "cell_type": "code",
   "execution_count": null,
   "metadata": {},
   "outputs": [],
   "source": [
    "  \"\"\"\n",
    "    Geometric PV panels\n",
    "    -------\n",
    "        Geometrical distribution of PV panels on rooftop building segments are calculated \n",
    "        using Theoretical PV panels and placement efficiency\n",
    "        \n",
    "  \"\"\"\n",
    "geometric_PVP = theoretical_PVP * pl_eff"
   ]
  },
  {
   "cell_type": "code",
   "execution_count": null,
   "metadata": {},
   "outputs": [],
   "source": [
    "def big_pv_flat(panels):\n",
    "    \n",
    "    \"\"\"\n",
    "    Returns\n",
    "    -------\n",
    "        Theoretical PV power output for an urban area over an given time period.[W/m2]\n",
    "        \n",
    "    \"\"\"\n",
    "    pv_power = 0\n",
    "    for i in range(metadata.shape[0]):\n",
    "        if metadata[[i], 14] > 0:\n",
    "            G_s = metadata[[i], 14]\n",
    "            pv_power = pv_power = pv_power + (G_s * (pv_eff / 100) * \\\n",
    "                                              (1 + alpha * ((metadata[[i], 11] + k_t * G_s) - ref_temp))\\\n",
    "                                              * l_PV * w_PV * panels * (1 - (wire_losses / 100)))\n",
    "    \n",
    "    pv_power = pv_power\n",
    "    return pv_power\n",
    "\n",
    "theoretical_PVO = big_pv_flat(geometric_PVP)"
   ]
  },
  {
   "cell_type": "code",
   "execution_count": null,
   "metadata": {},
   "outputs": [],
   "source": [
    "\"\"\"\n",
    "    Returns\n",
    "    -------\n",
    "        Theoretical PV power output for an urban area over an given time period.[W/m2]\n",
    "        \n",
    "\"\"\"\n",
    "modelled_PVO = theoretical_PVO * geo_eff"
   ]
  }
 ],
 "metadata": {
  "kernelspec": {
   "display_name": "Python 3",
   "language": "python",
   "name": "python3"
  },
  "language_info": {
   "codemirror_mode": {
    "name": "ipython",
    "version": 3
   },
   "file_extension": ".py",
   "mimetype": "text/x-python",
   "name": "python",
   "nbconvert_exporter": "python",
   "pygments_lexer": "ipython3",
   "version": "3.8.5"
  }
 },
 "nbformat": 4,
 "nbformat_minor": 4
}
